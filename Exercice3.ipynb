{
  "nbformat": 4,
  "nbformat_minor": 0,
  "metadata": {
    "colab": {
      "name": "Untitled0.ipynb",
      "version": "0.3.2",
      "provenance": [],
      "include_colab_link": true
    },
    "kernelspec": {
      "name": "python3",
      "display_name": "Python 3"
    }
  },
  "cells": [
    {
      "cell_type": "markdown",
      "metadata": {
        "id": "view-in-github",
        "colab_type": "text"
      },
      "source": [
        "<a href=\"https://colab.research.google.com/github/chouramehdi/IHM-App/blob/master/Exercice3.ipynb\" target=\"_parent\"><img src=\"https://colab.research.google.com/assets/colab-badge.svg\" alt=\"Open In Colab\"/></a>"
      ]
    },
    {
      "cell_type": "code",
      "metadata": {
        "id": "POrmmdV3Wym4",
        "colab_type": "code",
        "colab": {}
      },
      "source": [
        "import tensorflow as tf"
      ],
      "execution_count": 0,
      "outputs": []
    },
    {
      "cell_type": "code",
      "metadata": {
        "id": "DsbNFPc_W0uc",
        "colab_type": "code",
        "colab": {}
      },
      "source": [
        "class myCallback(tf.keras.callbacks.Callback):\n",
        "  def on_epoch_end(self, epoch, logs={}):\n",
        "    if(logs.get('acc')>0.998):\n",
        "      print(\"\\nReached 99.8% accuracy so cancelling training!\")\n",
        "      self.model.stop_training = True"
      ],
      "execution_count": 0,
      "outputs": []
    },
    {
      "cell_type": "code",
      "metadata": {
        "id": "yea1AjuLW3qR",
        "colab_type": "code",
        "colab": {}
      },
      "source": [
        "# GRADED FUNCTION: train_mnist_conv\n",
        "def train_mnist_conv():\n",
        "    # Please write your code only where you are indicated.\n",
        "    # please do not remove model fitting inline comments.\n",
        "\n",
        "    # YOUR CODE STARTS HERE\n",
        "    \n",
        "    mnist = tf.keras.datasets.fashion_mnist\n",
        "    # YOUR CODE ENDS HERE\n",
        "\n",
        "    mnist = tf.keras.datasets.mnist\n",
        "    (training_images, training_labels), (test_images, test_labels) = mnist.load_data()\n",
        "    # YOUR CODE STARTS HERE\n",
        "    training_images=training_images.reshape(60000, 28, 28, 1)\n",
        "    training_images=training_images / 255.0\n",
        "    test_images = test_images.reshape(10000, 28, 28, 1)\n",
        "    test_images=test_images/255.0\n",
        "    callbacks = myCallback()\n",
        "    \n",
        "    # YOUR CODE ENDS HERE\n",
        "\n",
        "    model = tf.keras.models.Sequential([\n",
        "            # YOUR CODE STARTS HERE\n",
        "     tf.keras.layers.Conv2D(64, (3,3), activation='relu', input_shape=(28, 28, 1)),\n",
        "     tf.keras.layers.MaxPooling2D(2, 2),\n",
        "     tf.keras.layers.Conv2D(64, (3,3), activation='relu'),\n",
        "     tf.keras.layers.MaxPooling2D(2,2),\n",
        "     tf.keras.layers.Flatten(),\n",
        "     tf.keras.layers.Dense(128, activation='relu'),\n",
        "     tf.keras.layers.Dense(10, activation='softmax')\n",
        "            # YOUR CODE ENDS HERE\n",
        "    ])\n",
        "\n",
        "    model.compile(optimizer='adam', loss='sparse_categorical_crossentropy', metrics=['accuracy'])\n",
        "    model.summary()\n",
        "    # model fitting\n",
        "    history = model.fit(\n",
        "        # YOUR CODE STARTS HERE\n",
        "    training_images, training_labels, epochs=20,callbacks=[callbacks]\n",
        "\n",
        "        # YOUR CODE ENDS HERE\n",
        "    )\n",
        "    # model fitting\n",
        "    return history.epoch, history.history['acc'][-1]\n",
        "\n"
      ],
      "execution_count": 0,
      "outputs": []
    },
    {
      "cell_type": "code",
      "metadata": {
        "id": "EDDTDPYeW_TI",
        "colab_type": "code",
        "colab": {
          "base_uri": "https://localhost:8080/",
          "height": 756
        },
        "outputId": "7135045b-e53f-4c39-e23d-19b7aa892876"
      },
      "source": [
        "_, _ = train_mnist_conv()"
      ],
      "execution_count": 6,
      "outputs": [
        {
          "output_type": "stream",
          "text": [
            "Model: \"sequential_1\"\n",
            "_________________________________________________________________\n",
            "Layer (type)                 Output Shape              Param #   \n",
            "=================================================================\n",
            "conv2d_2 (Conv2D)            (None, 26, 26, 64)        640       \n",
            "_________________________________________________________________\n",
            "max_pooling2d_2 (MaxPooling2 (None, 13, 13, 64)        0         \n",
            "_________________________________________________________________\n",
            "conv2d_3 (Conv2D)            (None, 11, 11, 64)        36928     \n",
            "_________________________________________________________________\n",
            "max_pooling2d_3 (MaxPooling2 (None, 5, 5, 64)          0         \n",
            "_________________________________________________________________\n",
            "flatten_1 (Flatten)          (None, 1600)              0         \n",
            "_________________________________________________________________\n",
            "dense_2 (Dense)              (None, 128)               204928    \n",
            "_________________________________________________________________\n",
            "dense_3 (Dense)              (None, 10)                1290      \n",
            "=================================================================\n",
            "Total params: 243,786\n",
            "Trainable params: 243,786\n",
            "Non-trainable params: 0\n",
            "_________________________________________________________________\n",
            "Epoch 1/20\n",
            "60000/60000 [==============================] - 92s 2ms/sample - loss: 0.1204 - acc: 0.9634\n",
            "Epoch 2/20\n",
            "60000/60000 [==============================] - 93s 2ms/sample - loss: 0.0401 - acc: 0.9875\n",
            "Epoch 3/20\n",
            "60000/60000 [==============================] - 91s 2ms/sample - loss: 0.0277 - acc: 0.9912\n",
            "Epoch 4/20\n",
            "60000/60000 [==============================] - 94s 2ms/sample - loss: 0.0186 - acc: 0.9944\n",
            "Epoch 5/20\n",
            "60000/60000 [==============================] - 94s 2ms/sample - loss: 0.0155 - acc: 0.9949\n",
            "Epoch 6/20\n",
            "60000/60000 [==============================] - 92s 2ms/sample - loss: 0.0119 - acc: 0.9962\n",
            "Epoch 7/20\n",
            "60000/60000 [==============================] - 91s 2ms/sample - loss: 0.0090 - acc: 0.9969\n",
            "Epoch 8/20\n",
            "60000/60000 [==============================] - 90s 2ms/sample - loss: 0.0075 - acc: 0.9976\n",
            "Epoch 9/20\n",
            "60000/60000 [==============================] - 92s 2ms/sample - loss: 0.0071 - acc: 0.9976\n",
            "Epoch 10/20\n",
            "59968/60000 [============================>.] - ETA: 0s - loss: 0.0056 - acc: 0.9980\n",
            "Reached 99.8% accuracy so cancelling training!\n",
            "60000/60000 [==============================] - 91s 2ms/sample - loss: 0.0056 - acc: 0.9980\n"
          ],
          "name": "stdout"
        }
      ]
    }
  ]
}